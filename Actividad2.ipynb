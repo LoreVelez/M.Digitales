{
  "nbformat": 4,
  "nbformat_minor": 0,
  "metadata": {
    "colab": {
      "name": "Actividad2.ipynb",
      "provenance": [],
      "collapsed_sections": [],
      "authorship_tag": "ABX9TyNQAUeoU/D9mRCAKYD/T+E9",
      "include_colab_link": true
    },
    "kernelspec": {
      "name": "python3",
      "display_name": "Python 3"
    },
    "language_info": {
      "name": "python"
    }
  },
  "cells": [
    {
      "cell_type": "markdown",
      "metadata": {
        "id": "view-in-github",
        "colab_type": "text"
      },
      "source": [
        "<a href=\"https://colab.research.google.com/github/LoreVelez/M.Digitales/blob/main/Actividad2.ipynb\" target=\"_parent\"><img src=\"https://colab.research.google.com/assets/colab-badge.svg\" alt=\"Open In Colab\"/></a>"
      ]
    },
    {
      "cell_type": "markdown",
      "metadata": {
        "id": "ZB2usc_kuxiU"
      },
      "source": [
        "**Ejercicio1**"
      ]
    },
    {
      "cell_type": "code",
      "metadata": {
        "id": "p2mJehPvLfxU",
        "colab": {
          "base_uri": "https://localhost:8080/"
        },
        "outputId": "35088794-58b8-4019-8680-eed4a6a58304"
      },
      "source": [
        "a=10\n",
        "b=11\n",
        "c=10\n",
        "if a==b and a==c and b==c:\n",
        "  print(\"Todos tienen el mismo valor\")\n",
        "elif a==b:\n",
        "  print(\"Solo a y b tienen el mismo valor\")\n",
        "elif a==c:\n",
        "  print(\"Solo a y c tienen el mismo valor\")\n",
        "elif b==c:\n",
        "  print(\"Solo b y c tienen el mismo valor\")\n",
        "elif a!=b and a!=c and b!=c:\n",
        "  print(\"Ninguno tiene el mismo valor\")"
      ],
      "execution_count": null,
      "outputs": [
        {
          "output_type": "stream",
          "text": [
            "Solo a y c tienen el mismo valor\n"
          ],
          "name": "stdout"
        }
      ]
    },
    {
      "cell_type": "markdown",
      "metadata": {
        "id": "AIt_Ogoz0-sh"
      },
      "source": [
        "**Ejercicio 2**"
      ]
    },
    {
      "cell_type": "code",
      "metadata": {
        "colab": {
          "base_uri": "https://localhost:8080/"
        },
        "id": "ennJxVWx1Eh3",
        "outputId": "16c7dd7a-7f95-4f6a-86e3-901bfc90655e"
      },
      "source": [
        "a=\"Lorena\"\n",
        "b=\"Velez\"\n",
        "if a==\"Lorena\" and b==\"Velez\":\n",
        "  print(\"¡Los datos son correctos!\")\n",
        "elif a!=\"Lorena\" or b!=\"Velez\":\n",
        "  print(\"¡Los datos son incorrectos!\")"
      ],
      "execution_count": null,
      "outputs": [
        {
          "output_type": "stream",
          "text": [
            "¡Los datos son correctos!\n"
          ],
          "name": "stdout"
        }
      ]
    },
    {
      "cell_type": "markdown",
      "metadata": {
        "id": "9wVk5mi119T7"
      },
      "source": [
        "**Ejercicio 3**"
      ]
    },
    {
      "cell_type": "code",
      "metadata": {
        "colab": {
          "base_uri": "https://localhost:8080/"
        },
        "id": "kK7xPuhC2Amj",
        "outputId": "72b665a6-274f-4dc4-a23a-807059b951fe"
      },
      "source": [
        "a=27\n",
        "b=25\n",
        "c=30\n",
        "if a>b and a>c:\n",
        "  print(\"a:\",a,\"es el mayor\")\n",
        "elif b>a and b>c:\n",
        "  print(\"b:\",b,\"es el mayor\")\n",
        "elif c>a and c>b:\n",
        "  print(\"c:\",c,\"es el mayor\")"
      ],
      "execution_count": null,
      "outputs": [
        {
          "output_type": "stream",
          "text": [
            "c: 30 es el mayor\n"
          ],
          "name": "stdout"
        }
      ]
    },
    {
      "cell_type": "markdown",
      "metadata": {
        "id": "2er0c_oV3dLh"
      },
      "source": [
        "**Ejercicio 4**"
      ]
    },
    {
      "cell_type": "code",
      "metadata": {
        "colab": {
          "base_uri": "https://localhost:8080/"
        },
        "id": "XQ6SPqW53hEf",
        "outputId": "211b6755-b911-4160-fb46-76e0ef90eada"
      },
      "source": [
        "a=60\n",
        "if a<=0:\n",
        "  print(\"No es una edad válida\")\n",
        "elif a>0 and a<=18:\n",
        "  print(\"Es menor de edad\")\n",
        "elif a>=19 and a<=59:\n",
        "  print(\"Es mayor de edad\")\n",
        "elif a>=60:\n",
        "  print(\"Es de la tercera edad\")"
      ],
      "execution_count": null,
      "outputs": [
        {
          "output_type": "stream",
          "text": [
            "Es de la tercera edad\n"
          ],
          "name": "stdout"
        }
      ]
    },
    {
      "cell_type": "markdown",
      "metadata": {
        "id": "WIAdmUyP7XRk"
      },
      "source": [
        "**Ejercicio 5**"
      ]
    },
    {
      "cell_type": "code",
      "metadata": {
        "colab": {
          "base_uri": "https://localhost:8080/"
        },
        "id": "56aC2uLk7bNJ",
        "outputId": "b45b48a9-10ec-46fb-bfe5-34d2993fbc84"
      },
      "source": [
        ">>> clave = input('Ingresa la clave: ')\n",
        ">>> repeat = input('Repite la clave: ')\n",
        "if not clave == repeat:\n",
        "  print(chr(27)+\"[1;31m\")\n",
        "  print(\"¡No puede ingresar!\")\n",
        "else:\n",
        "  print(chr(27)+\"[1;32m\")\n",
        "  print(\"¡Bienvenid@!\")"
      ],
      "execution_count": null,
      "outputs": [
        {
          "output_type": "stream",
          "text": [
            "Ingresa la clave: 23\n",
            "Repite la clave: 23\n",
            "\u001b[1;32m\n",
            "¡Bienvenid@!\n"
          ],
          "name": "stdout"
        }
      ]
    }
  ]
}