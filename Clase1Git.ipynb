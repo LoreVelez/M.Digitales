{
  "nbformat": 4,
  "nbformat_minor": 0,
  "metadata": {
    "colab": {
      "name": "Clase1Git.ipynb",
      "provenance": [],
      "collapsed_sections": [],
      "authorship_tag": "ABX9TyPm+QmqgtKPpJz8yadFg2xq",
      "include_colab_link": true
    },
    "kernelspec": {
      "name": "python3",
      "display_name": "Python 3"
    },
    "language_info": {
      "name": "python"
    }
  },
  "cells": [
    {
      "cell_type": "markdown",
      "metadata": {
        "id": "view-in-github",
        "colab_type": "text"
      },
      "source": [
        "<a href=\"https://colab.research.google.com/github/LoreVelez/M.Digitales/blob/main/Clase1Git.ipynb\" target=\"_parent\"><img src=\"https://colab.research.google.com/assets/colab-badge.svg\" alt=\"Open In Colab\"/></a>"
      ]
    },
    {
      "cell_type": "code",
      "metadata": {
        "id": "P3pTCsVF3w8M",
        "colab": {
          "base_uri": "https://localhost:8080/"
        },
        "outputId": "62fb71c7-7272-40b6-bce8-e33a577238e6"
      },
      "source": [
        "x=5\n",
        "print(x)"
      ],
      "execution_count": null,
      "outputs": [
        {
          "output_type": "stream",
          "text": [
            "5\n",
            "3\n"
          ],
          "name": "stdout"
        }
      ]
    },
    {
      "cell_type": "markdown",
      "metadata": {
        "id": "w4Flbr9ipxkh"
      },
      "source": [
        "**Introducción**\n",
        "---\n",
        "Para manejar un código limpio en python podemos seguir las siguientes recomendaciones:\n",
        "1. Manejar siempre minúscula.\n",
        "2. Se puede agregar números a las variables\n",
        "3. Aparecerá error si la declaración de la variable y el número no están seguidos.\n",
        "4. Para concatenar es con , o +\n",
        "Con + todo debe estar en formato str\n",
        "Con , separa los valores y ejecuta\n",
        "\n",
        "En python hay varios tipos de datos compuestos y están disponibles por defecto en los intérpretes.\n",
        "**¿De qué tipos?**\n",
        "1. Numéricos\n",
        "2. Secuenciales\n",
        "3. Mapeos\n",
        "4. Conjuntos usados para agrupar otros valores\n",
        "\n",
        "**Diferencia entre constantes y variables**\n",
        "\n",
        "**Constante:**\n",
        "En matemáticas llamamos constante a una magnitud que no cambia con el paso del tiempo.\n",
        "Ejemplo1: Contabilidad - Gastos fijos\n",
        "Ejemplo2: Números - 6\n",
        "\n",
        "**Variable**\n",
        "Cantidad que es suceptible a tomar distintos valores numéricos.\n",
        "\n",
        "x=5\n",
        "print(x)\n",
        "\n",
        "**Tipos de datos**\n",
        "\n",
        "**Enteros**\n",
        "Números que no tienen decimales\n",
        "Positivos y negativos\n",
        "\n",
        "a=int(3.444)\n",
        "print(a)"
      ]
    },
    {
      "cell_type": "code",
      "metadata": {
        "id": "purceQXJshQK"
      },
      "source": [
        "a=int(3.444)\n",
        "print(a)"
      ],
      "execution_count": null,
      "outputs": []
    },
    {
      "cell_type": "markdown",
      "metadata": {
        "id": "Ep0Ly8-EsoRB"
      },
      "source": [
        "**Tipo cadena**\n",
        "Cadenas de texto encerrados entre comillas simples o dobles y se pueden conformar de diferentes caracteres numéricos, alfanuméricos o especiales. **Tener en cuenta** las cadenas admiten operadores como la suma y la resta"
      ]
    },
    {
      "cell_type": "code",
      "metadata": {
        "colab": {
          "base_uri": "https://localhost:8080/"
        },
        "id": "Qv57IvhitoFy",
        "outputId": "46e9564b-0221-40fe-b8a0-eb88dc944fb3"
      },
      "source": [
        "val1=\"Luisa\"\n",
        "print(val1)\n",
        "val2=\"Hola mundo\"\n",
        "print(val2)"
      ],
      "execution_count": null,
      "outputs": [
        {
          "output_type": "stream",
          "text": [
            "Luisa\n",
            "Hola mundo\n"
          ],
          "name": "stdout"
        }
      ]
    },
    {
      "cell_type": "code",
      "metadata": {
        "colab": {
          "base_uri": "https://localhost:8080/"
        },
        "id": "QBpZ-SYMxkrN",
        "outputId": "ae9fd284-0abd-4f35-dbb4-eef888862dda"
      },
      "source": [
        "q=\"5\"\n",
        "p=\"2\"\n",
        "print(int(q)-int(p))"
      ],
      "execution_count": null,
      "outputs": [
        {
          "output_type": "stream",
          "text": [
            "3\n"
          ],
          "name": "stdout"
        }
      ]
    },
    {
      "cell_type": "markdown",
      "metadata": {
        "id": "ShUDhZQCymaL"
      },
      "source": [
        "**Tipo bboleano**\n",
        "Solo tiene valores verdadero o falso"
      ]
    },
    {
      "cell_type": "code",
      "metadata": {
        "colab": {
          "base_uri": "https://localhost:8080/"
        },
        "id": "jmrbvm5Ayv9V",
        "outputId": "a5bdad26-f4ef-4240-d266-f3859b977d64"
      },
      "source": [
        "lola=True\n",
        "print(\"El valor es verdadero:\",lola,\", el cual es de tipo \",type(lola))"
      ],
      "execution_count": null,
      "outputs": [
        {
          "output_type": "stream",
          "text": [
            "El valor es verdadero: True , el cual es de tipo  <class 'bool'>\n"
          ],
          "name": "stdout"
        }
      ]
    },
    {
      "cell_type": "markdown",
      "metadata": {
        "id": "DhJ6PcPgzRZU"
      },
      "source": [
        "Python cuenta con tipos de datos que admiten colecciones:\n",
        "1. Listas\n",
        "2. Tuplas\n",
        "3. Diccionarios\n",
        "\n",
        "**Tipos de conjuntos**\n",
        "---\n",
        "Son una colección de datos sin elementos que repiten:"
      ]
    },
    {
      "cell_type": "code",
      "metadata": {
        "colab": {
          "base_uri": "https://localhost:8080/"
        },
        "id": "sj3gxWo20FIR",
        "outputId": "413466aa-24f6-44e0-c9e4-ad05cf0ba40b"
      },
      "source": [
        "fru='pera','manzana','naranja'\n",
        "print(fru)"
      ],
      "execution_count": null,
      "outputs": [
        {
          "output_type": "stream",
          "text": [
            "('pera', 'manzana', 'naranja')\n"
          ],
          "name": "stdout"
        }
      ]
    },
    {
      "cell_type": "markdown",
      "metadata": {
        "id": "abni2Csi0v8T"
      },
      "source": [
        "**Tipo listas**\n",
        "---\n",
        "Son listas las que almacenan vectores\n",
        "\n",
        "`fe=ines[0:3]`\n",
        "\n",
        "El primer número es la posición, el segundo es la cantidad de elementos que me trae"
      ]
    },
    {
      "cell_type": "code",
      "metadata": {
        "colab": {
          "base_uri": "https://localhost:8080/"
        },
        "id": "rXLz7Rbl1Oo2",
        "outputId": "8dbdc780-9387-46bd-ece4-313aea1666d7"
      },
      "source": [
        "ines=['5','uva','lila','perro']\n",
        "print(ines)\n",
        "fe=ines[0:3]\n",
        "print(fe)\n"
      ],
      "execution_count": null,
      "outputs": [
        {
          "output_type": "stream",
          "text": [
            "['5', 'uva', 'lila', 'perro']\n",
            "['5', 'uva', 'lila']\n"
          ],
          "name": "stdout"
        }
      ]
    },
    {
      "cell_type": "markdown",
      "metadata": {
        "id": "aIB3udHn4JtP"
      },
      "source": [
        "**Tipo tuplas**\n",
        "---\n",
        "Es como una lista pero no se deja modificar después de su creación"
      ]
    },
    {
      "cell_type": "code",
      "metadata": {
        "colab": {
          "base_uri": "https://localhost:8080/"
        },
        "id": "xOZck-OZ4oly",
        "outputId": "f9113304-939b-4b6f-f257-dd2ae4092e8c"
      },
      "source": [
        "tupla=23,28,'helo'\n",
        "print(tupla)"
      ],
      "execution_count": null,
      "outputs": [
        {
          "output_type": "stream",
          "text": [
            "(23, 28, 'helo')\n"
          ],
          "name": "stdout"
        }
      ]
    },
    {
      "cell_type": "markdown",
      "metadata": {
        "id": "6nicQu5A56hO"
      },
      "source": [
        "**Diccionarios**\n",
        "---\n",
        "Define los datos 1 a 1 entre un campo y un valor: "
      ]
    },
    {
      "cell_type": "code",
      "metadata": {
        "colab": {
          "base_uri": "https://localhost:8080/"
        },
        "id": "s96kfpmW67tg",
        "outputId": "dc5327bd-ff28-42a5-8279-45b4da2488fe"
      },
      "source": [
        "datos_b={\n",
        "    \"nombre\":\"Diana\",\n",
        "    \"apellido\":\"Perea\",\n",
        "    \"cedula\":\"123456789\",\n",
        "    \"est_civil\":\"Soltera\",\n",
        "    \"lugar_nacimiento\":\"Quindio\",\n",
        "    \"fecha_nacimiento\":\"07-02-1993\"\n",
        "}\n",
        "print(datos_b.keys())\n",
        "print(datos_b.values())\n",
        "print(datos_b)\n",
        "print(datos_b[\"nombre\"])"
      ],
      "execution_count": null,
      "outputs": [
        {
          "output_type": "stream",
          "text": [
            "dict_keys(['nombre', 'apellido', 'cedula', 'est_civil', 'lugar_nacimiento', 'fecha_nacimiento'])\n",
            "dict_values(['Diana', 'Perea', '123456789', 'Soltera', 'Quindio', '07-02-1993'])\n",
            "{'nombre': 'Diana', 'apellido': 'Perea', 'cedula': '123456789', 'est_civil': 'Soltera', 'lugar_nacimiento': 'Quindio', 'fecha_nacimiento': '07-02-1993'}\n",
            "Diana\n"
          ],
          "name": "stdout"
        }
      ]
    },
    {
      "cell_type": "markdown",
      "metadata": {
        "id": "m_-BQT0C8p2m"
      },
      "source": [
        "**Ejemplo práctico (Características de los carros)**\n"
      ]
    },
    {
      "cell_type": "code",
      "metadata": {
        "colab": {
          "base_uri": "https://localhost:8080/"
        },
        "id": "ZOWEFrWH9EL3",
        "outputId": "bd7b27d2-7c95-4d5f-89ac-328733d39fb7"
      },
      "source": [
        "carros_0={}\n",
        "carros_0['tam']='grande'\n",
        "carros_0['color']='blanco'\n",
        "carros_0['marca']='mazda'\n",
        "carros_0['precio']=150000000\n",
        "\n",
        "carros_1={}\n",
        "carros_1['tam']='pequeño'\n",
        "carros_1['color']='gris'\n",
        "carros_1['marca']='renault'\n",
        "carros_1['precio']=25000000\n",
        "\n",
        "print(carros_0)\n",
        "print(carros_1)\n",
        "\n",
        "total=carros_0['precio']+carros_1['precio']\n",
        "print(total)\n",
        "\n",
        "print(carros_0['precio']+carros_1['precio'])"
      ],
      "execution_count": null,
      "outputs": [
        {
          "output_type": "stream",
          "text": [
            "{'tam': 'grande', 'color': 'blanco', 'marca': 'mazda', 'precio': 150000000}\n",
            "{'tam': 'pequeño', 'color': 'gris', 'marca': 'renault', 'precio': 25000000}\n",
            "175000000\n",
            "175000000\n"
          ],
          "name": "stdout"
        }
      ]
    }
  ]
}