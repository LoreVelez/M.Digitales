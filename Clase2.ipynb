{
  "nbformat": 4,
  "nbformat_minor": 0,
  "metadata": {
    "colab": {
      "name": "Clase2.ipynb",
      "provenance": [],
      "collapsed_sections": [],
      "authorship_tag": "ABX9TyMCGRhcKFU/NGB+ZxCkhool",
      "include_colab_link": true
    },
    "kernelspec": {
      "name": "python3",
      "display_name": "Python 3"
    },
    "language_info": {
      "name": "python"
    }
  },
  "cells": [
    {
      "cell_type": "markdown",
      "metadata": {
        "id": "view-in-github",
        "colab_type": "text"
      },
      "source": [
        "<a href=\"https://colab.research.google.com/github/LoreVelez/M.Digitales/blob/main/Clase2.ipynb\" target=\"_parent\"><img src=\"https://colab.research.google.com/assets/colab-badge.svg\" alt=\"Open In Colab\"/></a>"
      ]
    },
    {
      "cell_type": "markdown",
      "metadata": {
        "id": "kTX2r8if3uiD"
      },
      "source": [
        "**Tipos de división**\n",
        "---\n",
        "Exacta //\n",
        "Inexacta /\n",
        "**Nota:** la operación de división al igual que una operación normal no es posible dividir por 0, porque en matemáticas es un resultado indefinido\n",
        "\n",
        "**1. Potenciación**\n",
        "---\n",
        "En python el simbolo es **, el primer valor es la base y el último es el exponente"
      ]
    },
    {
      "cell_type": "code",
      "metadata": {
        "colab": {
          "base_uri": "https://localhost:8080/"
        },
        "id": "66g-aRdy5I57",
        "outputId": "d0aa9f13-3a30-42aa-e0dc-9e4f47f53259"
      },
      "source": [
        "print(2**4)"
      ],
      "execution_count": null,
      "outputs": [
        {
          "output_type": "stream",
          "text": [
            "16\n"
          ],
          "name": "stdout"
        }
      ]
    },
    {
      "cell_type": "markdown",
      "metadata": {
        "id": "he9z3MIl5Uwo"
      },
      "source": [
        "**2. Modulo**\n",
        "---\n",
        "Le llamamos módulo al residuo de la operación de división\n",
        "\n",
        "El simbolo utilizado es el %\n",
        "\n",
        "El primer valor es el dividendo y el ultimo es el divisor"
      ]
    },
    {
      "cell_type": "code",
      "metadata": {
        "colab": {
          "base_uri": "https://localhost:8080/"
        },
        "id": "Zpz4rE_45VnQ",
        "outputId": "2ba89ed3-7330-40c3-e966-1ed4b135ebbc"
      },
      "source": [
        "print(88%9)"
      ],
      "execution_count": null,
      "outputs": [
        {
          "output_type": "stream",
          "text": [
            "7\n"
          ],
          "name": "stdout"
        }
      ]
    },
    {
      "cell_type": "markdown",
      "metadata": {
        "id": "GQYwfIkj9QI7"
      },
      "source": [
        "**Operadores de comparación**\n",
        "---\n"
      ]
    },
    {
      "cell_type": "code",
      "metadata": {
        "colab": {
          "base_uri": "https://localhost:8080/"
        },
        "id": "ub91in0T9Vnz",
        "outputId": "e1168528-e7b2-4352-9c23-150cb0d5a657"
      },
      "source": [
        "x=30\n",
        "z=31\n",
        "print(z==x)"
      ],
      "execution_count": null,
      "outputs": [
        {
          "output_type": "stream",
          "text": [
            "False\n"
          ],
          "name": "stdout"
        }
      ]
    },
    {
      "cell_type": "code",
      "metadata": {
        "colab": {
          "base_uri": "https://localhost:8080/"
        },
        "id": "f-ffTzXt9fYx",
        "outputId": "716cb790-6509-4e68-a9ae-7b5104d77ff1"
      },
      "source": [
        "x=\"casa\"\n",
        "z=\"Casa\"\n",
        "print(z==x)"
      ],
      "execution_count": null,
      "outputs": [
        {
          "output_type": "stream",
          "text": [
            "False\n"
          ],
          "name": "stdout"
        }
      ]
    },
    {
      "cell_type": "markdown",
      "metadata": {
        "id": "-COSguyV_Xkq"
      },
      "source": [
        "**Diferencia**\n",
        "---\n",
        "A diferencia del operador de igualdad, el símbolo esá combinado por el símbolo de admiración! y el =, es (!=)"
      ]
    },
    {
      "cell_type": "code",
      "metadata": {
        "colab": {
          "base_uri": "https://localhost:8080/"
        },
        "id": "_jppK5nA_nzq",
        "outputId": "6de8c06f-d0c4-481f-f5c2-c62980af59d2"
      },
      "source": [
        "x=\"casa\"\n",
        "z=\"Casa\"\n",
        "print(z!=x)"
      ],
      "execution_count": null,
      "outputs": [
        {
          "output_type": "stream",
          "text": [
            "True\n"
          ],
          "name": "stdout"
        }
      ]
    },
    {
      "cell_type": "markdown",
      "metadata": {
        "id": "74ossTfB_yYc"
      },
      "source": [
        "**Mayor que >**\n",
        "--\n",
        "(>)\n",
        "\n",
        "Siempre en comparativa se designa cuál es menor o mayor, empezando por el valor que está a la izquierda de la operacción\n",
        "\n",
        "**Menor que <**\n",
        "--\n",
        "(<)"
      ]
    },
    {
      "cell_type": "code",
      "metadata": {
        "colab": {
          "base_uri": "https://localhost:8080/"
        },
        "id": "D8dVywMU_4Mz",
        "outputId": "b68f2722-6a8a-4469-8be7-ad8c631e220d"
      },
      "source": [
        "print(30>29.8)\n",
        "print(30<29.8)"
      ],
      "execution_count": null,
      "outputs": [
        {
          "output_type": "stream",
          "text": [
            "True\n",
            "False\n"
          ],
          "name": "stdout"
        }
      ]
    },
    {
      "cell_type": "markdown",
      "metadata": {
        "id": "w7nSvDV5A7sM"
      },
      "source": [
        "**Mayor o igual que**\n",
        "--\n",
        "(>=)"
      ]
    },
    {
      "cell_type": "markdown",
      "metadata": {
        "id": "_r2Q_xr6CuKg"
      },
      "source": [
        "**Operadores lógicos**\n",
        "--\n",
        "operadores lógicos base:\n",
        "1. and(y)\n",
        "2. or(o)\n",
        "3. not(No)\n",
        "Los operadores lógicos duncionan solo con valores o variables booleanas, a su vez, devuelven valores booleanos\n",
        "\n",
        "**ADN**\n",
        "-\n",
        "solo devolverá verdadero si ambos valores lo son\n",
        "\n",
        "solo si  y si los valores son verdaderos da verdadero, de resto dará falso"
      ]
    },
    {
      "cell_type": "code",
      "metadata": {
        "colab": {
          "base_uri": "https://localhost:8080/"
        },
        "id": "knQMuPVbDav5",
        "outputId": "daac77a8-d8c3-48f2-f9ee-ccdc87d8ae3c"
      },
      "source": [
        "print(True and True)\n",
        "print(True and False)\n",
        "print(False and False)"
      ],
      "execution_count": null,
      "outputs": [
        {
          "output_type": "stream",
          "text": [
            "True\n",
            "False\n",
            "False\n"
          ],
          "name": "stdout"
        }
      ]
    },
    {
      "cell_type": "markdown",
      "metadata": {
        "id": "PrF4l5ksDnKM"
      },
      "source": [
        "**operador not**\n",
        "--este operador es negación, en español no, por si solo no sirve para hacer niguna operación\n",
        "5 ejercicios mezclando los operadores vistos"
      ]
    }
  ]
}