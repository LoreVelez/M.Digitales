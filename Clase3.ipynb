{
  "nbformat": 4,
  "nbformat_minor": 0,
  "metadata": {
    "colab": {
      "name": "Clase3.ipynb",
      "provenance": [],
      "collapsed_sections": [],
      "authorship_tag": "ABX9TyOYiiSvAUUZUnNQUhHK8pgl",
      "include_colab_link": true
    },
    "kernelspec": {
      "name": "python3",
      "display_name": "Python 3"
    },
    "language_info": {
      "name": "python"
    }
  },
  "cells": [
    {
      "cell_type": "markdown",
      "metadata": {
        "id": "view-in-github",
        "colab_type": "text"
      },
      "source": [
        "<a href=\"https://colab.research.google.com/github/LoreVelez/M.Digitales/blob/main/Clase3.ipynb\" target=\"_parent\"><img src=\"https://colab.research.google.com/assets/colab-badge.svg\" alt=\"Open In Colab\"/></a>"
      ]
    },
    {
      "cell_type": "markdown",
      "metadata": {
        "id": "e9cEiXsx4fGZ"
      },
      "source": [
        "**Estructuras condicionale (Control)**\n",
        "--\n",
        "Al momento de construir una instrcción de tipo condicional se debera comprender que dichas instrucciones están diseñadas para ayudar en la toma de decisiones.\n",
        "\n",
        "Existen varios tipos de instrucciones, algunos pueden ser múltiples y otros simples, sin embargo, solo son dos los resultados, True(Verdadero) o False(Falso)"
      ]
    },
    {
      "cell_type": "markdown",
      "metadata": {
        "id": "hVGlgfOgBQe1"
      },
      "source": [
        "**Comando if**\n",
        "--\n",
        "Este comando permite evaluar si una sentencia es verdadera o falsa, es decir, se ejecuta una acción establecida mediante una o varias instrucciones inmediatamente en las lineas siguientes de dicha condición."
      ]
    },
    {
      "cell_type": "code",
      "metadata": {
        "id": "TAWUA9ac4c-g"
      },
      "source": [
        "num= input('Escribir un número cualquiera:')\n",
        "if num == 200:\n",
        "  print(\"Escribiste el 200\")"
      ],
      "execution_count": null,
      "outputs": []
    },
    {
      "cell_type": "markdown",
      "metadata": {
        "id": "CmCd0iBmHoRW"
      },
      "source": [
        "**Condicionales múltiples**\n",
        "--\n",
        "Cuando se presentan situaciones con más de una condición que dependen unas de otras, estas se pueden tratar mediante el manejo de varias sentencias o comandos if, o mediante el manejo adecuado del comando elif. Sin embargo, en muchos casos cuando hay múltiples condiciones, la promación necesita mayor cantidad de linea de código.\n",
        "\n",
        "En esos casos, es necesario, el uso de operadores lógicos como el and y el or."
      ]
    },
    {
      "cell_type": "code",
      "metadata": {
        "colab": {
          "base_uri": "https://localhost:8080/"
        },
        "id": "GboWDeZ6JaP4",
        "outputId": "cfbaaa6a-847a-425b-fb08-ac9be1d74efc"
      },
      "source": [
        "x=int(input(\"valor: \")) #condicional anidada\n",
        "if 0<x:\n",
        "  if x<10:\n",
        "    print(\"x en un número positivo\")"
      ],
      "execution_count": 5,
      "outputs": [
        {
          "output_type": "stream",
          "text": [
            "valor: 15\n"
          ],
          "name": "stdout"
        }
      ]
    },
    {
      "cell_type": "code",
      "metadata": {
        "colab": {
          "base_uri": "https://localhost:8080/"
        },
        "id": "XYT3mUEaKA77",
        "outputId": "4ecd7bb1-8826-463c-d34f-f917c1e1cd59"
      },
      "source": [
        "x=int(input(\"valor: \"))\n",
        "if 0<x and x<10: #expresión booleana por tener el operador lógico\n",
        "  print(\"x es de 1 dígito\")"
      ],
      "execution_count": 8,
      "outputs": [
        {
          "output_type": "stream",
          "text": [
            "valor: 5\n",
            "x es de 1 dígito\n"
          ],
          "name": "stdout"
        }
      ]
    },
    {
      "cell_type": "code",
      "metadata": {
        "colab": {
          "base_uri": "https://localhost:8080/"
        },
        "id": "4aU_5ygwKZf3",
        "outputId": "31358b37-14ed-46c4-adb0-b450ff3ee6bb"
      },
      "source": [
        "x=int(input(\"valor: \"))\n",
        "if 0<x<10: #forma corta\n",
        "  print(\"x es de 1 dígito\")"
      ],
      "execution_count": 9,
      "outputs": [
        {
          "output_type": "stream",
          "text": [
            "valor: 3\n",
            "x es de 1 dígito\n"
          ],
          "name": "stdout"
        }
      ]
    },
    {
      "cell_type": "markdown",
      "metadata": {
        "id": "hLjk7MxIKvWm"
      },
      "source": [
        "Esta condición es la misma expresión booleana compuesta y la misma expresión condicional anidada"
      ]
    },
    {
      "cell_type": "markdown",
      "metadata": {
        "id": "-G2cTpKjNCd5"
      },
      "source": [
        "**estructuras de control iterativas**\n",
        "--\n",
        "las variables son claves en las estructuras de control iterativas, puesto que son el medio entre la iteración y la condición que se está ejecutando\n",
        "**Iteración**\n",
        "--\n",
        "Es la consecución del código tantas veces requiera hasta qe se cumplan las condiciones establecidas.\n",
        "\n",
        "*banderas*\n",
        "son variables que toman un valor preferiblemente binario, binario e indican un estado."
      ]
    },
    {
      "cell_type": "code",
      "metadata": {
        "id": "IvIVTEmlN3lO"
      },
      "source": [
        "suma=False\n",
        "tota=0\n",
        "a=3\n",
        "b=10\n"
      ],
      "execution_count": null,
      "outputs": []
    }
  ]
}